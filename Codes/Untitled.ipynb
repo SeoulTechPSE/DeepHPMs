{
 "cells": [
  {
   "cell_type": "code",
   "execution_count": 1,
   "metadata": {},
   "outputs": [
    {
     "data": {
      "text/plain": [
       "array([1, 2, 3, 4])"
      ]
     },
     "execution_count": 1,
     "metadata": {},
     "output_type": "execute_result"
    }
   ],
   "source": [
    "import numpy as np\n",
    "\n",
    "a = np.array([[1,2], [3,4]])\n",
    "a.flatten()"
   ]
  },
  {
   "cell_type": "code",
   "execution_count": 2,
   "metadata": {},
   "outputs": [
    {
     "data": {
      "text/plain": [
       "array([[1],\n",
       "       [2],\n",
       "       [3],\n",
       "       [4]])"
      ]
     },
     "execution_count": 2,
     "metadata": {},
     "output_type": "execute_result"
    }
   ],
   "source": [
    "a.flatten()[:, None]"
   ]
  },
  {
   "cell_type": "code",
   "execution_count": 3,
   "metadata": {},
   "outputs": [
    {
     "data": {
      "text/plain": [
       "(4,)"
      ]
     },
     "execution_count": 3,
     "metadata": {},
     "output_type": "execute_result"
    }
   ],
   "source": [
    "a.flatten().shape"
   ]
  },
  {
   "cell_type": "code",
   "execution_count": 4,
   "metadata": {},
   "outputs": [
    {
     "data": {
      "text/plain": [
       "(4, 1)"
      ]
     },
     "execution_count": 4,
     "metadata": {},
     "output_type": "execute_result"
    }
   ],
   "source": [
    "a.flatten()[:, None].shape"
   ]
  },
  {
   "cell_type": "code",
   "execution_count": 6,
   "metadata": {},
   "outputs": [
    {
     "data": {
      "text/plain": [
       "{'__header__': b'MATLAB 5.0 MAT-file, Platform: GLNXA64, Created on: Mon Jan 15 19:50:44 2018',\n",
       " '__version__': '1.0',\n",
       " '__globals__': [],\n",
       " 't': array([[ 0.  ,  0.05,  0.1 ,  0.15,  0.2 ,  0.25,  0.3 ,  0.35,  0.4 ,\n",
       "          0.45,  0.5 ,  0.55,  0.6 ,  0.65,  0.7 ,  0.75,  0.8 ,  0.85,\n",
       "          0.9 ,  0.95,  1.  ,  1.05,  1.1 ,  1.15,  1.2 ,  1.25,  1.3 ,\n",
       "          1.35,  1.4 ,  1.45,  1.5 ,  1.55,  1.6 ,  1.65,  1.7 ,  1.75,\n",
       "          1.8 ,  1.85,  1.9 ,  1.95,  2.  ,  2.05,  2.1 ,  2.15,  2.2 ,\n",
       "          2.25,  2.3 ,  2.35,  2.4 ,  2.45,  2.5 ,  2.55,  2.6 ,  2.65,\n",
       "          2.7 ,  2.75,  2.8 ,  2.85,  2.9 ,  2.95,  3.  ,  3.05,  3.1 ,\n",
       "          3.15,  3.2 ,  3.25,  3.3 ,  3.35,  3.4 ,  3.45,  3.5 ,  3.55,\n",
       "          3.6 ,  3.65,  3.7 ,  3.75,  3.8 ,  3.85,  3.9 ,  3.95,  4.  ,\n",
       "          4.05,  4.1 ,  4.15,  4.2 ,  4.25,  4.3 ,  4.35,  4.4 ,  4.45,\n",
       "          4.5 ,  4.55,  4.6 ,  4.65,  4.7 ,  4.75,  4.8 ,  4.85,  4.9 ,\n",
       "          4.95,  5.  ,  5.05,  5.1 ,  5.15,  5.2 ,  5.25,  5.3 ,  5.35,\n",
       "          5.4 ,  5.45,  5.5 ,  5.55,  5.6 ,  5.65,  5.7 ,  5.75,  5.8 ,\n",
       "          5.85,  5.9 ,  5.95,  6.  ,  6.05,  6.1 ,  6.15,  6.2 ,  6.25,\n",
       "          6.3 ,  6.35,  6.4 ,  6.45,  6.5 ,  6.55,  6.6 ,  6.65,  6.7 ,\n",
       "          6.75,  6.8 ,  6.85,  6.9 ,  6.95,  7.  ,  7.05,  7.1 ,  7.15,\n",
       "          7.2 ,  7.25,  7.3 ,  7.35,  7.4 ,  7.45,  7.5 ,  7.55,  7.6 ,\n",
       "          7.65,  7.7 ,  7.75,  7.8 ,  7.85,  7.9 ,  7.95,  8.  ,  8.05,\n",
       "          8.1 ,  8.15,  8.2 ,  8.25,  8.3 ,  8.35,  8.4 ,  8.45,  8.5 ,\n",
       "          8.55,  8.6 ,  8.65,  8.7 ,  8.75,  8.8 ,  8.85,  8.9 ,  8.95,\n",
       "          9.  ,  9.05,  9.1 ,  9.15,  9.2 ,  9.25,  9.3 ,  9.35,  9.4 ,\n",
       "          9.45,  9.5 ,  9.55,  9.6 ,  9.65,  9.7 ,  9.75,  9.8 ,  9.85,\n",
       "          9.9 ,  9.95, 10.  ]]),\n",
       " 'usol': array([[ 1.22464680e-16,  1.26938691e-16,  6.76111706e-17, ...,\n",
       "         -8.59426130e-19,  2.72425004e-18,  2.57275432e-18],\n",
       "        [ 2.45412285e-02,  2.40509340e-02,  2.35804744e-02, ...,\n",
       "          4.98764787e-03,  4.96778752e-03,  4.94808500e-03],\n",
       "        [ 4.90676743e-02,  4.80881999e-02,  4.71482899e-02, ...,\n",
       "          9.97526556e-03,  9.93554533e-03,  9.89614075e-03],\n",
       "        ...,\n",
       "        [-7.35645636e-02, -7.20981362e-02, -7.06907921e-02, ...,\n",
       "         -1.49628229e-02, -1.49032437e-02, -1.48441380e-02],\n",
       "        [-4.90676743e-02, -4.80881999e-02, -4.71482899e-02, ...,\n",
       "         -9.97526556e-03, -9.93554533e-03, -9.89614075e-03],\n",
       "        [-2.45412285e-02, -2.40509340e-02, -2.35804744e-02, ...,\n",
       "         -4.98764787e-03, -4.96778752e-03, -4.94808500e-03]]),\n",
       " 'x': array([[-8.    , -7.9375, -7.875 , -7.8125, -7.75  , -7.6875, -7.625 ,\n",
       "         -7.5625, -7.5   , -7.4375, -7.375 , -7.3125, -7.25  , -7.1875,\n",
       "         -7.125 , -7.0625, -7.    , -6.9375, -6.875 , -6.8125, -6.75  ,\n",
       "         -6.6875, -6.625 , -6.5625, -6.5   , -6.4375, -6.375 , -6.3125,\n",
       "         -6.25  , -6.1875, -6.125 , -6.0625, -6.    , -5.9375, -5.875 ,\n",
       "         -5.8125, -5.75  , -5.6875, -5.625 , -5.5625, -5.5   , -5.4375,\n",
       "         -5.375 , -5.3125, -5.25  , -5.1875, -5.125 , -5.0625, -5.    ,\n",
       "         -4.9375, -4.875 , -4.8125, -4.75  , -4.6875, -4.625 , -4.5625,\n",
       "         -4.5   , -4.4375, -4.375 , -4.3125, -4.25  , -4.1875, -4.125 ,\n",
       "         -4.0625, -4.    , -3.9375, -3.875 , -3.8125, -3.75  , -3.6875,\n",
       "         -3.625 , -3.5625, -3.5   , -3.4375, -3.375 , -3.3125, -3.25  ,\n",
       "         -3.1875, -3.125 , -3.0625, -3.    , -2.9375, -2.875 , -2.8125,\n",
       "         -2.75  , -2.6875, -2.625 , -2.5625, -2.5   , -2.4375, -2.375 ,\n",
       "         -2.3125, -2.25  , -2.1875, -2.125 , -2.0625, -2.    , -1.9375,\n",
       "         -1.875 , -1.8125, -1.75  , -1.6875, -1.625 , -1.5625, -1.5   ,\n",
       "         -1.4375, -1.375 , -1.3125, -1.25  , -1.1875, -1.125 , -1.0625,\n",
       "         -1.    , -0.9375, -0.875 , -0.8125, -0.75  , -0.6875, -0.625 ,\n",
       "         -0.5625, -0.5   , -0.4375, -0.375 , -0.3125, -0.25  , -0.1875,\n",
       "         -0.125 , -0.0625,  0.    ,  0.0625,  0.125 ,  0.1875,  0.25  ,\n",
       "          0.3125,  0.375 ,  0.4375,  0.5   ,  0.5625,  0.625 ,  0.6875,\n",
       "          0.75  ,  0.8125,  0.875 ,  0.9375,  1.    ,  1.0625,  1.125 ,\n",
       "          1.1875,  1.25  ,  1.3125,  1.375 ,  1.4375,  1.5   ,  1.5625,\n",
       "          1.625 ,  1.6875,  1.75  ,  1.8125,  1.875 ,  1.9375,  2.    ,\n",
       "          2.0625,  2.125 ,  2.1875,  2.25  ,  2.3125,  2.375 ,  2.4375,\n",
       "          2.5   ,  2.5625,  2.625 ,  2.6875,  2.75  ,  2.8125,  2.875 ,\n",
       "          2.9375,  3.    ,  3.0625,  3.125 ,  3.1875,  3.25  ,  3.3125,\n",
       "          3.375 ,  3.4375,  3.5   ,  3.5625,  3.625 ,  3.6875,  3.75  ,\n",
       "          3.8125,  3.875 ,  3.9375,  4.    ,  4.0625,  4.125 ,  4.1875,\n",
       "          4.25  ,  4.3125,  4.375 ,  4.4375,  4.5   ,  4.5625,  4.625 ,\n",
       "          4.6875,  4.75  ,  4.8125,  4.875 ,  4.9375,  5.    ,  5.0625,\n",
       "          5.125 ,  5.1875,  5.25  ,  5.3125,  5.375 ,  5.4375,  5.5   ,\n",
       "          5.5625,  5.625 ,  5.6875,  5.75  ,  5.8125,  5.875 ,  5.9375,\n",
       "          6.    ,  6.0625,  6.125 ,  6.1875,  6.25  ,  6.3125,  6.375 ,\n",
       "          6.4375,  6.5   ,  6.5625,  6.625 ,  6.6875,  6.75  ,  6.8125,\n",
       "          6.875 ,  6.9375,  7.    ,  7.0625,  7.125 ,  7.1875,  7.25  ,\n",
       "          7.3125,  7.375 ,  7.4375,  7.5   ,  7.5625,  7.625 ,  7.6875,\n",
       "          7.75  ,  7.8125,  7.875 ,  7.9375]])}"
      ]
     },
     "execution_count": 6,
     "metadata": {},
     "output_type": "execute_result"
    }
   ],
   "source": [
    "import scipy.io\n",
    "\n",
    "data = scipy.io.loadmat('../Data/burgers_sine.mat')\n",
    "data"
   ]
  },
  {
   "cell_type": "code",
   "execution_count": 8,
   "metadata": {},
   "outputs": [
    {
     "data": {
      "text/plain": [
       "(1, 201)"
      ]
     },
     "execution_count": 8,
     "metadata": {},
     "output_type": "execute_result"
    }
   ],
   "source": [
    "data['t'].shape"
   ]
  },
  {
   "cell_type": "code",
   "execution_count": 9,
   "metadata": {},
   "outputs": [
    {
     "data": {
      "text/plain": [
       "(201,)"
      ]
     },
     "execution_count": 9,
     "metadata": {},
     "output_type": "execute_result"
    }
   ],
   "source": [
    "data['t'].flatten().shape"
   ]
  },
  {
   "cell_type": "code",
   "execution_count": 10,
   "metadata": {},
   "outputs": [
    {
     "data": {
      "text/plain": [
       "(201, 1)"
      ]
     },
     "execution_count": 10,
     "metadata": {},
     "output_type": "execute_result"
    }
   ],
   "source": [
    "data['t'].flatten()[:, None].shape"
   ]
  },
  {
   "cell_type": "code",
   "execution_count": 11,
   "metadata": {},
   "outputs": [
    {
     "data": {
      "text/plain": [
       "array([[ 1.22464680e-16,  1.26938691e-16,  6.76111706e-17, ...,\n",
       "        -8.59426130e-19,  2.72425004e-18,  2.57275432e-18],\n",
       "       [ 2.45412285e-02,  2.40509340e-02,  2.35804744e-02, ...,\n",
       "         4.98764787e-03,  4.96778752e-03,  4.94808500e-03],\n",
       "       [ 4.90676743e-02,  4.80881999e-02,  4.71482899e-02, ...,\n",
       "         9.97526556e-03,  9.93554533e-03,  9.89614075e-03],\n",
       "       ...,\n",
       "       [-7.35645636e-02, -7.20981362e-02, -7.06907921e-02, ...,\n",
       "        -1.49628229e-02, -1.49032437e-02, -1.48441380e-02],\n",
       "       [-4.90676743e-02, -4.80881999e-02, -4.71482899e-02, ...,\n",
       "        -9.97526556e-03, -9.93554533e-03, -9.89614075e-03],\n",
       "       [-2.45412285e-02, -2.40509340e-02, -2.35804744e-02, ...,\n",
       "        -4.98764787e-03, -4.96778752e-03, -4.94808500e-03]])"
      ]
     },
     "execution_count": 11,
     "metadata": {},
     "output_type": "execute_result"
    }
   ],
   "source": [
    "data['usol']"
   ]
  },
  {
   "cell_type": "code",
   "execution_count": 12,
   "metadata": {},
   "outputs": [
    {
     "data": {
      "text/plain": [
       "array([[ True,  True,  True, ...,  True,  True,  True],\n",
       "       [ True,  True,  True, ...,  True,  True,  True],\n",
       "       [ True,  True,  True, ...,  True,  True,  True],\n",
       "       ...,\n",
       "       [ True,  True,  True, ...,  True,  True,  True],\n",
       "       [ True,  True,  True, ...,  True,  True,  True],\n",
       "       [ True,  True,  True, ...,  True,  True,  True]])"
      ]
     },
     "execution_count": 12,
     "metadata": {},
     "output_type": "execute_result"
    }
   ],
   "source": [
    "data['usol'] == np.real(data['usol'])"
   ]
  },
  {
   "cell_type": "code",
   "execution_count": 13,
   "metadata": {},
   "outputs": [
    {
     "data": {
      "text/plain": [
       "(256, 201)"
      ]
     },
     "execution_count": 13,
     "metadata": {},
     "output_type": "execute_result"
    }
   ],
   "source": [
    "data['usol'].shape"
   ]
  },
  {
   "cell_type": "code",
   "execution_count": 15,
   "metadata": {},
   "outputs": [
    {
     "data": {
      "text/plain": [
       "(256, 1)"
      ]
     },
     "execution_count": 15,
     "metadata": {},
     "output_type": "execute_result"
    }
   ],
   "source": [
    "data['x'].flatten()[:, None].shape"
   ]
  },
  {
   "cell_type": "code",
   "execution_count": 17,
   "metadata": {},
   "outputs": [],
   "source": [
    "T, X = np.meshgrid(data['t'].flatten()[:, None], data['x'].flatten()[:, None])"
   ]
  },
  {
   "cell_type": "code",
   "execution_count": 18,
   "metadata": {},
   "outputs": [
    {
     "data": {
      "text/plain": [
       "(256, 201)"
      ]
     },
     "execution_count": 18,
     "metadata": {},
     "output_type": "execute_result"
    }
   ],
   "source": [
    "T.shape"
   ]
  },
  {
   "cell_type": "code",
   "execution_count": 21,
   "metadata": {},
   "outputs": [
    {
     "data": {
      "text/plain": [
       "array([1, 2, 3, 4])"
      ]
     },
     "execution_count": 21,
     "metadata": {},
     "output_type": "execute_result"
    }
   ],
   "source": [
    "XX = np.hstack(([1, 2], [3, 4]))\n",
    "XX"
   ]
  },
  {
   "cell_type": "code",
   "execution_count": null,
   "metadata": {},
   "outputs": [],
   "source": []
  }
 ],
 "metadata": {
  "kernelspec": {
   "display_name": "Python 3",
   "language": "python",
   "name": "python3"
  },
  "language_info": {
   "codemirror_mode": {
    "name": "ipython",
    "version": 3
   },
   "file_extension": ".py",
   "mimetype": "text/x-python",
   "name": "python",
   "nbconvert_exporter": "python",
   "pygments_lexer": "ipython3",
   "version": "3.6.6"
  }
 },
 "nbformat": 4,
 "nbformat_minor": 2
}
